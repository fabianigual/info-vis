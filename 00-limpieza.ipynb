{
 "cells": [
  {
   "cell_type": "markdown",
   "metadata": {},
   "source": [
    "# Limpieza de datos\n",
    "\n",
    "Limpieza de data set para Visualización de la información."
   ]
  },
  {
   "cell_type": "code",
   "execution_count": 126,
   "metadata": {},
   "outputs": [],
   "source": [
    "import pandas as pd\n",
    "import geopandas as gpd\n",
    "import re"
   ]
  },
  {
   "cell_type": "code",
   "execution_count": 206,
   "metadata": {},
   "outputs": [],
   "source": [
    "# Dataset de Kaggle\n",
    "data1 = pd.read_csv('data/15_to_30_victim_count.csv')\n",
    "data2 = pd.read_csv('data/5_to_14_victim_count.csv')\n",
    "data3 = pd.read_csv('data/Highest_victim_count.csv')\n",
    "data4 = pd.read_csv('data/Lessthan_5_victim_count.csv')\n",
    "\n",
    "#Mapa en geojson\n",
    "mapa = gpd.read_file('https://raw.githubusercontent.com/simonepri/geo-maps/master/previews/countries-coastline.geo.json')\n",
    "\n",
    "data = pd.concat([data1,data2,data3,data4])\n",
    "data\n",
    "\n",
    "# Dicccionario para ISO A3 code para países\n",
    "country_dict = pd.read_csv('https://raw.githubusercontent.com/lukes/ISO-3166-Countries-with-Regional-Codes/master/all/all.csv',\n",
    "                           encoding = 'UTF-8')"
   ]
  },
  {
   "cell_type": "markdown",
   "metadata": {},
   "source": [
    "## Limpieza de país\n",
    "\n",
    "Genero pais 1, 2 y 3 para campos con más de un país. Se eliminan los que tienen más de 3 países para simplicidad del análisis"
   ]
  },
  {
   "cell_type": "code",
   "execution_count": 172,
   "metadata": {},
   "outputs": [],
   "source": [
    "# Generar pais 1-2-3\n",
    "pais = data[\"Country\"].str.split(\"\\r\\n\", n = 2, expand = True)\n",
    "\n",
    "data['pais_1'] = pais[0]\n",
    "data['pais_2'] = pais[1]\n",
    "data['pais_3'] = pais[2]\n",
    "\n",
    "cols = ['pais_1','pais_2','pais_3']\n",
    "\n",
    "for col in cols:\n",
    "    data[col] = (data[col].str.replace('United States of America','United States ').replace(' \\(suspected\\)',\"\", regex=True)\n",
    "    .replace('Soviet Union','Russia').replace(\"United States Mexico\",\"United States\").replace(' \\(claimed\\)',\"\", regex=True).replace(\" \\(alleged\\)'',\", regex=True).replace(\"East Germany\",\"Germany\")\n",
    "    .replace(\"West Germany\",\"Germany\", regex=True).replace('Austria-Hungary',\"Austria\").replace(\"^East Germany\",\"Germany\",  regex=True).replace('German Empire','Germany')\n",
    "    .replace('Allied-occupied Germany',\"Germany\").replace('Kingdom of Romania',\"Romania\")\n",
    "    )\n",
    "\n",
    "\n",
    "# Limpieza específica de pais 2 y 3\n",
    "data.pais_2 = (data.pais_2.replace(' \\(alleged\\)',\"\", regex=True).replace(\"\\r\\n.*\",\"\", regex=True).replace('\\n.*',\"\",regex=True)\n",
    ")\n",
    "data.pais_3 = (data.pais_3.replace(' \\(alleged\\)',\"\", regex=True).replace(\"\\r\\n.*\",\"\", regex=True).replace('\\n.*',\"\",regex=True)\n",
    ")\n"
   ]
  },
  {
   "cell_type": "markdown",
   "metadata": {},
   "source": [
    "## Limpieza campo año\n",
    "\n",
    "Limpio años y divido en año de inicio y año de termino."
   ]
  },
  {
   "cell_type": "code",
   "execution_count": 209,
   "metadata": {},
   "outputs": [],
   "source": [
    "# limpio datos \n",
    "data['Years active'] = (data['Years active'].replace('late ',\"\", regex=True).replace(\"s\",\"\", regex=True).replace(' and earlier',\"\", regex=True)\n",
    ".replace(\"\\?\",\"\", regex=True).replace('c.',\"\", regex=True).replace('30 June ',\"\", regex=True).replace('preent',\"2020\", regex=True)\n",
    ".replace('23 July ',\"\", regex=True)\n",
    ")\n",
    "\n",
    "# divido en año inicio y termino\n",
    "\n",
    "años  = data[\"Years active\"].str.split(\" to \", n = 1, expand = True)\n",
    "data['año_inicio'] = años[0]\n",
    "data['año_termino'] = años[1]"
   ]
  },
  {
   "cell_type": "code",
   "execution_count": 210,
   "metadata": {},
   "outputs": [
    {
     "data": {
      "text/plain": [
       "0     1924.0\n",
       "1     2003.0\n",
       "2     2013.0\n",
       "3     2001.0\n",
       "4     2000.0\n",
       "       ...  \n",
       "24    1940.0\n",
       "25       NaN\n",
       "26    1932.0\n",
       "27    1996.0\n",
       "28       NaN\n",
       "Name: año_termino, Length: 305, dtype: float64"
      ]
     },
     "execution_count": 210,
     "metadata": {},
     "output_type": "execute_result"
    }
   ],
   "source": []
  }
 ],
 "metadata": {
  "interpreter": {
   "hash": "df026b7ab65c4cfe1220d0bbccecfa6c535ab587a7b0c76a205c87887346280c"
  },
  "kernelspec": {
   "display_name": "Python 3.8.10 64-bit ('aves': conda)",
   "name": "python3"
  },
  "language_info": {
   "codemirror_mode": {
    "name": "ipython",
    "version": 3
   },
   "file_extension": ".py",
   "mimetype": "text/x-python",
   "name": "python",
   "nbconvert_exporter": "python",
   "pygments_lexer": "ipython3",
   "version": "3.8.10"
  },
  "orig_nbformat": 4
 },
 "nbformat": 4,
 "nbformat_minor": 2
}
