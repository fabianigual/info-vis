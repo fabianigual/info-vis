{
 "cells": [
  {
   "cell_type": "markdown",
   "metadata": {},
   "source": [
    "# Limpieza de datos\n",
    "\n",
    "Limpieza de data set para Visualización de la información."
   ]
  },
  {
   "cell_type": "code",
   "execution_count": 1,
   "metadata": {},
   "outputs": [],
   "source": [
    "import pandas as pd\n",
    "import geopandas as gpd\n",
    "import re\n",
    "import numpy as np\n",
    "from warnings import WarningMessage\n",
    "\n",
    "WarningMessage = False"
   ]
  },
  {
   "cell_type": "code",
   "execution_count": 2,
   "metadata": {},
   "outputs": [],
   "source": [
    "# Dataset de Kaggle\n",
    "data1 = pd.read_csv('data/15_to_30_victim_count.csv')\n",
    "data2 = pd.read_csv('data/5_to_14_victim_count.csv')\n",
    "data3 = pd.read_csv('data/Highest_victim_count.csv')\n",
    "data4 = pd.read_csv('data/Lessthan_5_victim_count.csv')\n",
    "\n",
    "#Mapa en geojson\n",
    "mapa = gpd.read_file('https://raw.githubusercontent.com/simonepri/geo-maps/master/previews/countries-coastline.geo.json')\n",
    "\n",
    "data = pd.concat([data1,data2,data3,data4], ignore_index=True)\n",
    "data = data.rename(columns={\"Proven victims\":\"proven_victims\",\"Possible victims\":\"possible_victims\" })\n",
    "\n",
    "# Dicccionario para ISO A3 code para países\n",
    "country_dict = pd.read_csv('https://raw.githubusercontent.com/lukes/ISO-3166-Countries-with-Regional-Codes/master/all/all.csv',\n",
    "                           encoding = 'UTF-8')"
   ]
  },
  {
   "cell_type": "markdown",
   "metadata": {},
   "source": [
    "## Limpieza de país\n",
    "\n",
    "Genero pais 1, 2 y 3 para campos con más de un país. Se eliminan los que tienen más de 3 países para simplicidad del análisis"
   ]
  },
  {
   "cell_type": "code",
   "execution_count": 3,
   "metadata": {},
   "outputs": [],
   "source": [
    "# Generar pais 1-2-3\n",
    "pais = data[\"Country\"].str.split(\"\\r\\n\", n = 2, expand = True)\n",
    "\n",
    "data['pais_1'] = pais[0]\n",
    "data['pais_2'] = pais[1]\n",
    "data['pais_3'] = pais[2]\n",
    "\n",
    "cols = ['pais_1','pais_2','pais_3']\n",
    "\n",
    "for col in cols:\n",
    "    data[col] = (data[col].str.replace('United States of America','United States ').replace(' \\(suspected\\)',\"\", regex=True)\n",
    "    .replace('Soviet Union','Russia').replace(\"United States Mexico\",\"United States\").replace(' \\(claimed\\)',\"\", regex=True).replace(\" \\(alleged\\)'',\", regex=True).replace(\"East Germany\",\"Germany\")\n",
    "    .replace(\"West Germany\",\"Germany\", regex=True).replace('Austria-Hungary',\"Austria\").replace(\"^East Germany\",\"Germany\",  regex=True).replace('German Empire','Germany')\n",
    "    .replace('Allied-occupied Germany',\"Germany\").replace('Kingdom of Romania',\"Romania\")\n",
    "    )\n",
    "\n",
    "\n",
    "# Limpieza específica de pais 2 y 3\n",
    "data.pais_2 = (data.pais_2.replace(' \\(alleged\\)',\"\", regex=True).replace(\"\\r\\n.*\",\"\", regex=True).replace('\\n.*',\"\",regex=True)\n",
    ")\n",
    "data.pais_3 = (data.pais_3.replace(' \\(alleged\\)',\"\", regex=True).replace(\"\\r\\n.*\",\"\", regex=True).replace('\\n.*',\"\",regex=True)\n",
    ")\n"
   ]
  },
  {
   "cell_type": "markdown",
   "metadata": {},
   "source": [
    "## Limpieza campo año\n",
    "\n",
    "Limpio años y divido en año de inicio y año de termino."
   ]
  },
  {
   "cell_type": "code",
   "execution_count": 4,
   "metadata": {},
   "outputs": [],
   "source": [
    "# limpio datos \n",
    "data['Years active'] = (data['Years active'].replace('late ',\"\", regex=True).replace(\"s\",\"\", regex=True).replace(' and earlier',\"\", regex=True)\n",
    ".replace(\"\\?\",\"\", regex=True).replace('c.',\"\", regex=True).replace('30 June ',\"\", regex=True).replace('preent',\"2020\", regex=True)\n",
    ".replace('23 July ',\"\", regex=True)\n",
    ")\n",
    "\n",
    "# divido en año inicio y termino\n",
    "\n",
    "años  = data[\"Years active\"].str.split(\" to \", expand = True)\n",
    "data['año_inicio'] = pd.to_numeric(años[0],\"ignore\")\n",
    "data['año_termino'] = pd.to_numeric(años[1], \"ignore\")"
   ]
  },
  {
   "cell_type": "code",
   "execution_count": 5,
   "metadata": {},
   "outputs": [
    {
     "name": "stderr",
     "output_type": "stream",
     "text": [
      "/var/folders/l4/br6xdwsn3wj7ntybwy6zwmvh0000gn/T/ipykernel_49235/3661241955.py:3: SettingWithCopyWarning: \n",
      "A value is trying to be set on a copy of a slice from a DataFrame\n",
      "\n",
      "See the caveats in the documentation: https://pandas.pydata.org/pandas-docs/stable/user_guide/indexing.html#returning-a-view-versus-a-copy\n",
      "  data.año_termino[i] = data.año_inicio[i]\n"
     ]
    }
   ],
   "source": [
    "for i in range(0,len(data.año_termino)):\n",
    "    if pd.isna(data.año_termino[i]):\n",
    "        data.año_termino[i] = data.año_inicio[i]\n",
    "\n",
    "data['año_termino'] = data['año_termino'].map(int)"
   ]
  },
  {
   "cell_type": "markdown",
   "metadata": {},
   "source": [
    "## Limpieza campo \"víctimas probadas\" y \"posibles víctimas\"\n",
    "\n",
    "Limpieza del campo `proven_victims` y `possible_victims` . Algunos campos tienen rangos, \"+\", \"~\", etc. \n",
    "\n",
    "* Víctimas probadas"
   ]
  },
  {
   "cell_type": "code",
   "execution_count": 6,
   "metadata": {},
   "outputs": [],
   "source": [
    "data.proven_victims = (data.proven_victims.replace(\".*–\",\"\", regex=True).replace(\"\\\\+\",\"\", regex=True)\n",
    ")\n",
    "data.proven_victims = pd.to_numeric(data.proven_victims)"
   ]
  },
  {
   "cell_type": "markdown",
   "metadata": {},
   "source": [
    "* Vícitimas posibles"
   ]
  },
  {
   "cell_type": "code",
   "execution_count": 7,
   "metadata": {},
   "outputs": [
    {
     "name": "stderr",
     "output_type": "stream",
     "text": [
      "/var/folders/l4/br6xdwsn3wj7ntybwy6zwmvh0000gn/T/ipykernel_49235/111030220.py:10: SettingWithCopyWarning: \n",
      "A value is trying to be set on a copy of a slice from a DataFrame\n",
      "\n",
      "See the caveats in the documentation: https://pandas.pydata.org/pandas-docs/stable/user_guide/indexing.html#returning-a-view-versus-a-copy\n",
      "  data.possible_victims[i] = data.proven_victims[i]\n"
     ]
    }
   ],
   "source": [
    "data.possible_victims = (data.possible_victims.replace(\".*–\",\"\", regex=True).replace(\"\\\\+\",\"\", regex=True)\n",
    ".replace(\"Unknown\",\"0\").replace(\"\\\\?\",\"\", regex = True).replace(\"-\",\"\", regex = True)\n",
    ".replace(\"\\\\~\",\"\", regex=True)\n",
    ")\n",
    "data.possible_victims = pd.to_numeric(data.possible_victims)\n",
    "\n",
    "# reemplazo valores nulos o 0\n",
    "for i in range(0,len(data.possible_victims)):\n",
    "    if pd.isna(data.possible_victims[i]) or data.possible_victims[i]== 0:\n",
    "        data.possible_victims[i] = data.proven_victims[i]\n",
    "\n",
    "data['possible_victims'] = data['possible_victims'].map(int)"
   ]
  },
  {
   "cell_type": "markdown",
   "metadata": {},
   "source": [
    "## Limpieza de Country para match con diccionario de países"
   ]
  },
  {
   "cell_type": "code",
   "execution_count": 8,
   "metadata": {},
   "outputs": [
    {
     "data": {
      "text/html": [
       "<div>\n",
       "<style scoped>\n",
       "    .dataframe tbody tr th:only-of-type {\n",
       "        vertical-align: middle;\n",
       "    }\n",
       "\n",
       "    .dataframe tbody tr th {\n",
       "        vertical-align: top;\n",
       "    }\n",
       "\n",
       "    .dataframe thead th {\n",
       "        text-align: right;\n",
       "    }\n",
       "</style>\n",
       "<table border=\"1\" class=\"dataframe\">\n",
       "  <thead>\n",
       "    <tr style=\"text-align: right;\">\n",
       "      <th></th>\n",
       "      <th>name</th>\n",
       "      <th>A3</th>\n",
       "    </tr>\n",
       "  </thead>\n",
       "  <tbody>\n",
       "    <tr>\n",
       "      <th>0</th>\n",
       "      <td>Afghanistan</td>\n",
       "      <td>AFG</td>\n",
       "    </tr>\n",
       "    <tr>\n",
       "      <th>1</th>\n",
       "      <td>Åland Islands</td>\n",
       "      <td>ALA</td>\n",
       "    </tr>\n",
       "    <tr>\n",
       "      <th>2</th>\n",
       "      <td>Albania</td>\n",
       "      <td>ALB</td>\n",
       "    </tr>\n",
       "    <tr>\n",
       "      <th>3</th>\n",
       "      <td>Algeria</td>\n",
       "      <td>DZA</td>\n",
       "    </tr>\n",
       "    <tr>\n",
       "      <th>4</th>\n",
       "      <td>American Samoa</td>\n",
       "      <td>ASM</td>\n",
       "    </tr>\n",
       "  </tbody>\n",
       "</table>\n",
       "</div>"
      ],
      "text/plain": [
       "             name   A3\n",
       "0     Afghanistan  AFG\n",
       "1   Åland Islands  ALA\n",
       "2         Albania  ALB\n",
       "3         Algeria  DZA\n",
       "4  American Samoa  ASM"
      ]
     },
     "execution_count": 8,
     "metadata": {},
     "output_type": "execute_result"
    }
   ],
   "source": [
    "country_dict = country_dict[['name','alpha-3']]\n",
    "country_dict = country_dict.rename(columns={'alpha-3':'A3'})\n",
    "country_dict.A3 = country_dict.A3.str.replace('\"','')\n",
    "country_dict.head()"
   ]
  },
  {
   "cell_type": "code",
   "execution_count": 12,
   "metadata": {},
   "outputs": [],
   "source": [
    "country_dict = (country_dict.replace('Iran \\\\(Islamic Republic of\\\\)','Iran', regex=True).replace(\"Russian Federation\",\"Russia\")\n",
    ".replace(\"United States of America\",\"United States\").replace(\"United Kingdom of Great Britain and Northern Ireland\",\"United Kingdom\")\n",
    ".replace(\"Venezuela \\\\(Bolivarian Republic of\\\\)\",\"Venezuela\", regex=True).replace(\"Korea, Republic of\",\"South Korea\")\n",
    ".replace(\"Iraq\",\"Iraq\", regex=True)\n",
    ")"
   ]
  },
  {
   "cell_type": "code",
   "execution_count": 17,
   "metadata": {},
   "outputs": [
    {
     "data": {
      "text/plain": [
       "Czechoslovakia    1\n",
       " Iran             1\n",
       "Name: pais_3, dtype: int64"
      ]
     },
     "execution_count": 17,
     "metadata": {},
     "output_type": "execute_result"
    }
   ],
   "source": [
    "paises = pd.merge(data.pais_3,country_dict, left_on= 'pais_3' , right_on='name', how='left')\n",
    "paises = paises[pd.isna(paises['name' ] )]\n",
    "paises.pais_3.value_counts()"
   ]
  },
  {
   "cell_type": "markdown",
   "metadata": {},
   "source": [
    "Perderemos 3 países que no tienen homologación y Swaziland no encontré geojson con Alpha-3.  \n",
    "De país 2 perdemos Iraq, es un bug o problema de Encoding.  \n",
    "De país 3 perdemos Iran, es un bug o problema de Encoding."
   ]
  },
  {
   "cell_type": "code",
   "execution_count": 19,
   "metadata": {},
   "outputs": [
    {
     "data": {
      "text/html": [
       "<div>\n",
       "<style scoped>\n",
       "    .dataframe tbody tr th:only-of-type {\n",
       "        vertical-align: middle;\n",
       "    }\n",
       "\n",
       "    .dataframe tbody tr th {\n",
       "        vertical-align: top;\n",
       "    }\n",
       "\n",
       "    .dataframe thead th {\n",
       "        text-align: right;\n",
       "    }\n",
       "</style>\n",
       "<table border=\"1\" class=\"dataframe\">\n",
       "  <thead>\n",
       "    <tr style=\"text-align: right;\">\n",
       "      <th></th>\n",
       "      <th>año_inicio</th>\n",
       "      <th>año_termino</th>\n",
       "      <th>proven_victims</th>\n",
       "      <th>proven_victims</th>\n",
       "    </tr>\n",
       "  </thead>\n",
       "  <tbody>\n",
       "    <tr>\n",
       "      <th>count</th>\n",
       "      <td>305.000000</td>\n",
       "      <td>305.000000</td>\n",
       "      <td>305.000000</td>\n",
       "      <td>305.000000</td>\n",
       "    </tr>\n",
       "    <tr>\n",
       "      <th>mean</th>\n",
       "      <td>1978.134426</td>\n",
       "      <td>1985.491803</td>\n",
       "      <td>16.537705</td>\n",
       "      <td>16.537705</td>\n",
       "    </tr>\n",
       "    <tr>\n",
       "      <th>std</th>\n",
       "      <td>26.488297</td>\n",
       "      <td>25.515103</td>\n",
       "      <td>16.184566</td>\n",
       "      <td>16.184566</td>\n",
       "    </tr>\n",
       "    <tr>\n",
       "      <th>min</th>\n",
       "      <td>1880.000000</td>\n",
       "      <td>1906.000000</td>\n",
       "      <td>3.000000</td>\n",
       "      <td>3.000000</td>\n",
       "    </tr>\n",
       "    <tr>\n",
       "      <th>25%</th>\n",
       "      <td>1972.000000</td>\n",
       "      <td>1979.000000</td>\n",
       "      <td>8.000000</td>\n",
       "      <td>8.000000</td>\n",
       "    </tr>\n",
       "    <tr>\n",
       "      <th>50%</th>\n",
       "      <td>1984.000000</td>\n",
       "      <td>1992.000000</td>\n",
       "      <td>12.000000</td>\n",
       "      <td>12.000000</td>\n",
       "    </tr>\n",
       "    <tr>\n",
       "      <th>75%</th>\n",
       "      <td>1996.000000</td>\n",
       "      <td>2003.000000</td>\n",
       "      <td>18.000000</td>\n",
       "      <td>18.000000</td>\n",
       "    </tr>\n",
       "    <tr>\n",
       "      <th>max</th>\n",
       "      <td>2016.000000</td>\n",
       "      <td>2020.000000</td>\n",
       "      <td>138.000000</td>\n",
       "      <td>138.000000</td>\n",
       "    </tr>\n",
       "  </tbody>\n",
       "</table>\n",
       "</div>"
      ],
      "text/plain": [
       "        año_inicio  año_termino  proven_victims  proven_victims\n",
       "count   305.000000   305.000000      305.000000      305.000000\n",
       "mean   1978.134426  1985.491803       16.537705       16.537705\n",
       "std      26.488297    25.515103       16.184566       16.184566\n",
       "min    1880.000000  1906.000000        3.000000        3.000000\n",
       "25%    1972.000000  1979.000000        8.000000        8.000000\n",
       "50%    1984.000000  1992.000000       12.000000       12.000000\n",
       "75%    1996.000000  2003.000000       18.000000       18.000000\n",
       "max    2016.000000  2020.000000      138.000000      138.000000"
      ]
     },
     "execution_count": 19,
     "metadata": {},
     "output_type": "execute_result"
    }
   ],
   "source": [
    "data_clean = data[['Name','pais_1','pais_2','pais_3','año_inicio','año_termino', 'proven_victims', 'proven_victims', 'Notes']]\n",
    "data_clean.describe()"
   ]
  },
  {
   "cell_type": "markdown",
   "metadata": {},
   "source": [
    "## Añadir visitas de wikipedia\n",
    "\n",
    "https://stackoverflow.com/questions/66709281/get-page-views-of-a-wikipedia-page-using-an-api"
   ]
  }
 ],
 "metadata": {
  "interpreter": {
   "hash": "df026b7ab65c4cfe1220d0bbccecfa6c535ab587a7b0c76a205c87887346280c"
  },
  "kernelspec": {
   "display_name": "Python 3.8.10 64-bit ('aves': conda)",
   "name": "python3"
  },
  "language_info": {
   "codemirror_mode": {
    "name": "ipython",
    "version": 3
   },
   "file_extension": ".py",
   "mimetype": "text/x-python",
   "name": "python",
   "nbconvert_exporter": "python",
   "pygments_lexer": "ipython3",
   "version": "3.8.10"
  },
  "orig_nbformat": 4
 },
 "nbformat": 4,
 "nbformat_minor": 2
}
