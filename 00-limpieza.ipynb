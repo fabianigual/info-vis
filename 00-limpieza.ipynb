{
 "cells": [
  {
   "cell_type": "markdown",
   "metadata": {},
   "source": [
    "# Limpieza de datos\n",
    "\n",
    "Limpieza de data set para Visualización de la información."
   ]
  },
  {
   "cell_type": "code",
   "execution_count": 147,
   "metadata": {},
   "outputs": [],
   "source": [
    "import pandas as pd\n",
    "import geopandas as gpd\n",
    "import re\n",
    "import numpy as np\n",
    "from warnings import WarningMessage\n",
    "\n",
    "WarningMessage = False"
   ]
  },
  {
   "cell_type": "code",
   "execution_count": 111,
   "metadata": {},
   "outputs": [],
   "source": [
    "# Dataset de Kaggle\n",
    "data1 = pd.read_csv('data/15_to_30_victim_count.csv')\n",
    "data2 = pd.read_csv('data/5_to_14_victim_count.csv')\n",
    "data3 = pd.read_csv('data/Highest_victim_count.csv')\n",
    "data4 = pd.read_csv('data/Lessthan_5_victim_count.csv')\n",
    "\n",
    "#Mapa en geojson\n",
    "mapa = gpd.read_file('https://raw.githubusercontent.com/simonepri/geo-maps/master/previews/countries-coastline.geo.json')\n",
    "\n",
    "data = pd.concat([data1,data2,data3,data4], ignore_index=True)\n",
    "data = data.rename(columns={\"Proven victims\":\"proven_victims\",\"Possible victims\":\"possible_victims\" })\n",
    "\n",
    "# Dicccionario para ISO A3 code para países\n",
    "country_dict = pd.read_csv('https://raw.githubusercontent.com/lukes/ISO-3166-Countries-with-Regional-Codes/master/all/all.csv',\n",
    "                           encoding = 'UTF-8')"
   ]
  },
  {
   "cell_type": "markdown",
   "metadata": {},
   "source": [
    "## Limpieza de país\n",
    "\n",
    "Genero pais 1, 2 y 3 para campos con más de un país. Se eliminan los que tienen más de 3 países para simplicidad del análisis"
   ]
  },
  {
   "cell_type": "code",
   "execution_count": 112,
   "metadata": {},
   "outputs": [],
   "source": [
    "# Generar pais 1-2-3\n",
    "pais = data[\"Country\"].str.split(\"\\r\\n\", n = 2, expand = True)\n",
    "\n",
    "data['pais_1'] = pais[0]\n",
    "data['pais_2'] = pais[1]\n",
    "data['pais_3'] = pais[2]\n",
    "\n",
    "cols = ['pais_1','pais_2','pais_3']\n",
    "\n",
    "for col in cols:\n",
    "    data[col] = (data[col].str.replace('United States of America','United States ').replace(' \\(suspected\\)',\"\", regex=True)\n",
    "    .replace('Soviet Union','Russia').replace(\"United States Mexico\",\"United States\").replace(' \\(claimed\\)',\"\", regex=True).replace(\" \\(alleged\\)'',\", regex=True).replace(\"East Germany\",\"Germany\")\n",
    "    .replace(\"West Germany\",\"Germany\", regex=True).replace('Austria-Hungary',\"Austria\").replace(\"^East Germany\",\"Germany\",  regex=True).replace('German Empire','Germany')\n",
    "    .replace('Allied-occupied Germany',\"Germany\").replace('Kingdom of Romania',\"Romania\")\n",
    "    )\n",
    "\n",
    "\n",
    "# Limpieza específica de pais 2 y 3\n",
    "data.pais_2 = (data.pais_2.replace(' \\(alleged\\)',\"\", regex=True).replace(\"\\r\\n.*\",\"\", regex=True).replace('\\n.*',\"\",regex=True)\n",
    ")\n",
    "data.pais_3 = (data.pais_3.replace(' \\(alleged\\)',\"\", regex=True).replace(\"\\r\\n.*\",\"\", regex=True).replace('\\n.*',\"\",regex=True)\n",
    ")\n"
   ]
  },
  {
   "cell_type": "markdown",
   "metadata": {},
   "source": [
    "## Limpieza campo año\n",
    "\n",
    "Limpio años y divido en año de inicio y año de termino."
   ]
  },
  {
   "cell_type": "code",
   "execution_count": 113,
   "metadata": {},
   "outputs": [],
   "source": [
    "# limpio datos \n",
    "data['Years active'] = (data['Years active'].replace('late ',\"\", regex=True).replace(\"s\",\"\", regex=True).replace(' and earlier',\"\", regex=True)\n",
    ".replace(\"\\?\",\"\", regex=True).replace('c.',\"\", regex=True).replace('30 June ',\"\", regex=True).replace('preent',\"2020\", regex=True)\n",
    ".replace('23 July ',\"\", regex=True)\n",
    ")\n",
    "\n",
    "# divido en año inicio y termino\n",
    "\n",
    "años  = data[\"Years active\"].str.split(\" to \", expand = True)\n",
    "data['año_inicio'] = pd.to_numeric(años[0],\"ignore\")\n",
    "data['año_termino'] = pd.to_numeric(años[1], \"ignore\")"
   ]
  },
  {
   "cell_type": "code",
   "execution_count": 148,
   "metadata": {},
   "outputs": [],
   "source": [
    "for i in range(0,len(data.año_termino)):\n",
    "    if pd.isna(data.año_termino[i]):\n",
    "        data.año_termino[i] = data.año_inicio[i]\n",
    "\n",
    "data['año_termino'] = data['año_termino'].map(int)"
   ]
  },
  {
   "cell_type": "markdown",
   "metadata": {},
   "source": [
    "## Limpieza campo \"víctimas probadas\" y \"posibles víctimas\"\n",
    "\n",
    "Limpieza del campo `proven_victims` y `possible_victims` . Algunos campos tienen rangos, \"+\", \"~\", etc. \n",
    "\n",
    "* Víctimas probadas"
   ]
  },
  {
   "cell_type": "code",
   "execution_count": 135,
   "metadata": {},
   "outputs": [],
   "source": [
    "data.proven_victims = (data.proven_victims.replace(\".*–\",\"\", regex=True).replace(\"\\\\+\",\"\", regex=True)\n",
    ")\n",
    "data.proven_victims = pd.to_numeric(data.proven_victims)"
   ]
  },
  {
   "cell_type": "markdown",
   "metadata": {},
   "source": [
    "* Vícitimas posibles"
   ]
  },
  {
   "cell_type": "code",
   "execution_count": 143,
   "metadata": {},
   "outputs": [],
   "source": [
    "data.possible_victims = (data.possible_victims.replace(\".*–\",\"\", regex=True).replace(\"\\\\+\",\"\", regex=True)\n",
    ".replace(\"Unknown\",\"0\").replace(\"\\\\?\",\"\", regex = True).replace(\"-\",\"\", regex = True)\n",
    ".replace(\"\\\\~\",\"\", regex=True)\n",
    ")\n",
    "data.possible_victims = pd.to_numeric(data.possible_victims)\n",
    "\n",
    "# reemplazo valores nulos o 0\n",
    "for i in range(0,len(data.possible_victims)):\n",
    "    if pd.isna(data.possible_victims[i]) or data.possible_victims[i]== 0:\n",
    "        data.possible_victims[i] = data.proven_victims[i]\n",
    "\n",
    "data['possible_victims'] = data['possible_victims'].map(int)"
   ]
  },
  {
   "cell_type": "code",
   "execution_count": 151,
   "metadata": {},
   "outputs": [
    {
     "data": {
      "text/html": [
       "<div>\n",
       "<style scoped>\n",
       "    .dataframe tbody tr th:only-of-type {\n",
       "        vertical-align: middle;\n",
       "    }\n",
       "\n",
       "    .dataframe tbody tr th {\n",
       "        vertical-align: top;\n",
       "    }\n",
       "\n",
       "    .dataframe thead th {\n",
       "        text-align: right;\n",
       "    }\n",
       "</style>\n",
       "<table border=\"1\" class=\"dataframe\">\n",
       "  <thead>\n",
       "    <tr style=\"text-align: right;\">\n",
       "      <th></th>\n",
       "      <th>Name</th>\n",
       "      <th>Country</th>\n",
       "      <th>Years active</th>\n",
       "      <th>proven_victims</th>\n",
       "      <th>possible_victims</th>\n",
       "      <th>Notes</th>\n",
       "      <th>pais_1</th>\n",
       "      <th>pais_2</th>\n",
       "      <th>pais_3</th>\n",
       "      <th>año_inicio</th>\n",
       "      <th>año_termino</th>\n",
       "    </tr>\n",
       "  </thead>\n",
       "  <tbody>\n",
       "    <tr>\n",
       "      <th>0</th>\n",
       "      <td>Karl Denke</td>\n",
       "      <td>Germany</td>\n",
       "      <td>1900 to 1924</td>\n",
       "      <td>30</td>\n",
       "      <td>42</td>\n",
       "      <td>Killed and cannibalized poor travelers and hom...</td>\n",
       "      <td>Germany</td>\n",
       "      <td>None</td>\n",
       "      <td>None</td>\n",
       "      <td>1900</td>\n",
       "      <td>1924</td>\n",
       "    </tr>\n",
       "    <tr>\n",
       "      <th>1</th>\n",
       "      <td>Francisco das Chagas Rodrigues de Brito</td>\n",
       "      <td>Brazil</td>\n",
       "      <td>1989 to 2003</td>\n",
       "      <td>30</td>\n",
       "      <td>42</td>\n",
       "      <td>Pedophile who sexually abused, murdered and mu...</td>\n",
       "      <td>Brazil</td>\n",
       "      <td>None</td>\n",
       "      <td>None</td>\n",
       "      <td>1989</td>\n",
       "      <td>2003</td>\n",
       "    </tr>\n",
       "    <tr>\n",
       "      <th>2</th>\n",
       "      <td>Luis Gregorio Ramírez Maestre</td>\n",
       "      <td>Colombia</td>\n",
       "      <td>2010 to 2013</td>\n",
       "      <td>30</td>\n",
       "      <td>30</td>\n",
       "      <td>Killed motorists in various municipalities bef...</td>\n",
       "      <td>Colombia</td>\n",
       "      <td>None</td>\n",
       "      <td>None</td>\n",
       "      <td>2010</td>\n",
       "      <td>2013</td>\n",
       "    </tr>\n",
       "    <tr>\n",
       "      <th>3</th>\n",
       "      <td>David Thabo Simelane</td>\n",
       "      <td>Swaziland</td>\n",
       "      <td>2000 to 2001</td>\n",
       "      <td>28</td>\n",
       "      <td>45</td>\n",
       "      <td>Sexually assaulted women he befriended in fore...</td>\n",
       "      <td>Swaziland</td>\n",
       "      <td>None</td>\n",
       "      <td>None</td>\n",
       "      <td>2000</td>\n",
       "      <td>2001</td>\n",
       "    </tr>\n",
       "    <tr>\n",
       "      <th>4</th>\n",
       "      <td>Zhang Jun</td>\n",
       "      <td>China</td>\n",
       "      <td>1993 to 2000</td>\n",
       "      <td>28</td>\n",
       "      <td>28</td>\n",
       "      <td>Robbed 22 stores in several Chinese provinces,...</td>\n",
       "      <td>China</td>\n",
       "      <td>None</td>\n",
       "      <td>None</td>\n",
       "      <td>1993</td>\n",
       "      <td>2000</td>\n",
       "    </tr>\n",
       "  </tbody>\n",
       "</table>\n",
       "</div>"
      ],
      "text/plain": [
       "                                      Name    Country  Years active  \\\n",
       "0                               Karl Denke    Germany  1900 to 1924   \n",
       "1  Francisco das Chagas Rodrigues de Brito     Brazil  1989 to 2003   \n",
       "2            Luis Gregorio Ramírez Maestre   Colombia  2010 to 2013   \n",
       "3                     David Thabo Simelane  Swaziland  2000 to 2001   \n",
       "4                                Zhang Jun      China  1993 to 2000   \n",
       "\n",
       "   proven_victims  possible_victims  \\\n",
       "0              30                42   \n",
       "1              30                42   \n",
       "2              30                30   \n",
       "3              28                45   \n",
       "4              28                28   \n",
       "\n",
       "                                               Notes     pais_1 pais_2 pais_3  \\\n",
       "0  Killed and cannibalized poor travelers and hom...    Germany   None   None   \n",
       "1  Pedophile who sexually abused, murdered and mu...     Brazil   None   None   \n",
       "2  Killed motorists in various municipalities bef...   Colombia   None   None   \n",
       "3  Sexually assaulted women he befriended in fore...  Swaziland   None   None   \n",
       "4  Robbed 22 stores in several Chinese provinces,...      China   None   None   \n",
       "\n",
       "   año_inicio  año_termino  \n",
       "0        1900         1924  \n",
       "1        1989         2003  \n",
       "2        2010         2013  \n",
       "3        2000         2001  \n",
       "4        1993         2000  "
      ]
     },
     "execution_count": 151,
     "metadata": {},
     "output_type": "execute_result"
    }
   ],
   "source": [
    "data.head()"
   ]
  }
 ],
 "metadata": {
  "interpreter": {
   "hash": "0e73dc9e907a9fb44668756c2bc0c3c5a05f90f0184c8624c8ce1c578f3f8d20"
  },
  "kernelspec": {
   "display_name": "Python 3.9.7 64-bit ('info-vis': conda)",
   "name": "python3"
  },
  "language_info": {
   "codemirror_mode": {
    "name": "ipython",
    "version": 3
   },
   "file_extension": ".py",
   "mimetype": "text/x-python",
   "name": "python",
   "nbconvert_exporter": "python",
   "pygments_lexer": "ipython3",
   "version": "3.9.7"
  },
  "orig_nbformat": 4
 },
 "nbformat": 4,
 "nbformat_minor": 2
}
