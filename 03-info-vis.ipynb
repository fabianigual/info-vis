{
 "cells": [
  {
   "cell_type": "markdown",
   "metadata": {},
   "source": [
    "# Visualización\n",
    "\n",
    "TODO:\n",
    "\n",
    "* Histograma stacked por número de vícitimas y número de asesinos.\n",
    "* Resaltar con anotaciones casos importantes\n",
    "* Mapa con los países. \n",
    "* Bubble Clouds con tipo de motivación y país. \n",
    "* Diferencia entre las víctimas probadas y probables. lolly pop chart\n"
   ]
  }
 ],
 "metadata": {
  "language_info": {
   "name": "python"
  },
  "orig_nbformat": 4
 },
 "nbformat": 4,
 "nbformat_minor": 2
}
